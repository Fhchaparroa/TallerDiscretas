{
 "cells": [
  {
   "cell_type": "code",
   "execution_count": 10,
   "metadata": {},
   "outputs": [
    {
     "name": "stdout",
     "output_type": "stream",
     "text": [
      "El número 101 es primo segun el método normal\n",
      "El número 101 es primo segun el método de Euler\n",
      "El método de Euler es más eficiente para el número 101\n"
     ]
    }
   ],
   "source": [
    "import time\n",
    "\n",
    "def calcularNumeroNormal(numero):\n",
    "    inicio = time.perf_counter()\n",
    "    prueba = 2\n",
    "    while prueba < numero**(1/2):\n",
    "        if numero % prueba == 0:\n",
    "            print(\"El número\", numero, \"no es primo segun el método normal\")\n",
    "            break\n",
    "        prueba += 1\n",
    "    else:\n",
    "        print(\"El número\", numero, \"es primo segun el método normal\")\n",
    "    fin = time.perf_counter()\n",
    "    total = fin - inicio\n",
    "    return total\n",
    "\n",
    "def calcularNumeroEuler(numero):\n",
    "    inicio = time.perf_counter()\n",
    "    resultado = numero\n",
    "    p = 2\n",
    "    while p * p <= numero:\n",
    "        if numero % p == 0:\n",
    "            while numero % p == 0:\n",
    "                numero = numero // p\n",
    "            resultado -= resultado // p\n",
    "        p += 1\n",
    "    if numero > 1:\n",
    "        resultado -= resultado // numero\n",
    "    totient = resultado\n",
    "    if totient == numero - 1:\n",
    "        print(\"El número\", numero, \"es primo segun el método de Euler\")\n",
    "    else:\n",
    "        print(\"El número\", numero, \"no es primo segun el método de Euler\")\n",
    "    fin = time.perf_counter()\n",
    "    total = fin - inicio\n",
    "    return total\n",
    "\n",
    "numero = int(input(\"Ingrese un número: \"))\n",
    "if calcularNumeroNormal(numero)>calcularNumeroEuler(numero):\n",
    "    print(\"El método de Euler es más eficiente para el número\", numero)\n",
    "else:\n",
    "    print(\"El método normal es más eficiente para el número\", numero)"
   ]
  },
  {
   "cell_type": "code",
   "execution_count": 2,
   "metadata": {},
   "outputs": [
    {
     "name": "stdout",
     "output_type": "stream",
     "text": [
      "La raiz de 24 es 5 + 1.0\n",
      "El resultado para el numero 24 es:  6.0 * 4.0\n",
      "El valor final da 24.0\n"
     ]
    }
   ],
   "source": [
    "numero=int(input(\"Digite un numero: \"))\n",
    "raiz=round(numero**(1/2))\n",
    "y2=(raiz**2-numero)\n",
    "while((y2**(1/2))!=(round(y2**(1/2)))):\n",
    "    raiz=raiz+1\n",
    "    y2=(raiz**2-numero)\n",
    "y=(y2**(1/2))\n",
    "print(\"La raiz de\",numero,\"es\",raiz,\"+\",y)\n",
    "resultado=(raiz+y)*(raiz-y)\n",
    "print(\"El resultado para el numero\",numero,\"es: \",raiz+y,\"*\",raiz-y)\n",
    "print(\"El valor final da\",resultado)"
   ]
  }
 ],
 "metadata": {
  "kernelspec": {
   "display_name": "Python 3",
   "language": "python",
   "name": "python3"
  },
  "language_info": {
   "codemirror_mode": {
    "name": "ipython",
    "version": 3
   },
   "file_extension": ".py",
   "mimetype": "text/x-python",
   "name": "python",
   "nbconvert_exporter": "python",
   "pygments_lexer": "ipython3",
   "version": "3.10.11"
  },
  "orig_nbformat": 4
 },
 "nbformat": 4,
 "nbformat_minor": 2
}
